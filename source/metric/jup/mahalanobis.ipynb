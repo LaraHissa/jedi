{
 "cells": [
  {
   "cell_type": "code",
   "execution_count": 49,
   "metadata": {},
   "outputs": [],
   "source": [
    "import numpy as np\n",
    "import pandas as pd\n",
    "import matplotlib.pyplot as plt\n",
    "\n",
    "import os\n",
    "import sys\n",
    "import math\n",
    "\n",
    "from datetime import datetime\n",
    "from datetime import timedelta\n",
    "import datetime\n",
    "from scipy import spatial\n",
    "\n",
    "from numpy import array\n",
    "from numpy import corrcoef\n",
    "\n",
    "from scipy.spatial import distance"
   ]
  },
  {
   "cell_type": "code",
   "execution_count": 50,
   "metadata": {},
   "outputs": [],
   "source": [
    "def dist_euclidian(v1,v2):\n",
    "    return distance.euclidean(v1, v2)\n",
    "\n",
    "def measure_cossine(v1,v2):\n",
    "    return (1 - spatial.distance.cosine(v1, v2))\n",
    "\n",
    "def measure_correlation(v1,v2):\n",
    "    return corrcoef(v1,v2)[0,1]\n",
    "\n",
    "def dist_correlation(dc):\n",
    "    return math.sqrt(2 *(1 - dc))\n",
    "\n",
    "def measure_angle(arcc):\n",
    "    return math.degrees(np.arccos(arcc))"
   ]
  },
  {
   "cell_type": "code",
   "execution_count": 51,
   "metadata": {},
   "outputs": [],
   "source": [
    "s1 = np.array([[1, 2, 3, 4, 5,  6,  7,  8,  9,  10, 11, 12, 13, 14, 4, 1], \n",
    "               [2, 4, 6, 8, 10, 12, 14, 16, 18, 20, 22, 24, 26, 28, 5, 1]\n",
    "              ], np.float)\n",
    "s1_desc = \"| [correlacao cresc]\"\n",
    "\n",
    "s2 = np.array([[1, 1, 1, 1, 1, 1, 1, 1, 1, 1, 1, 1, 1, 1, 1, 1,\n",
    "                2, 2, 2, 2, 2, 2, 2, 2, 2, 2, 2, 2, 2, 2, 2, 2,\n",
    "                3, 3, 3, 3, 3, 3, 3, 3, 3, 3, 3, 3, 3, 3, 3, 3,\n",
    "                4, 4, 4, 4, 4, 4, 4, 4, 4, 4, 4, 4, 4, 4, 4, 4,\n",
    "                5, 5, 5, 5, 5, 5, 5, 5, 5, 5, 5, 5, 5, 5, 5, 5, \n",
    "                4, 1\n",
    "               ], \n",
    "               \n",
    "               [1, 2, 3, 4, 5, 6, 7, 8, 9, 10, 11, 12, 13, 14, 15, 16,\n",
    "                1, 2, 3, 4, 5, 6, 7, 8, 9, 10, 11, 12, 13, 14, 15, 16,\n",
    "                1, 2, 3, 4, 5, 6, 7, 8, 9, 10, 11, 12, 13, 14, 15, 16,\n",
    "                1, 2, 3, 4, 5, 6, 7, 8, 9, 10, 11, 12, 13, 14, 15, 16,\n",
    "                1, 2, 3, 4, 5, 6, 7, 8, 9, 10, 11, 12, 13, 14, 15, 16,\n",
    "                5, 1\n",
    "                ]\n",
    "              ], np.float)\n",
    "s2_desc = \"| [correlacao nula]\"\n",
    "\n",
    "s3 = np.array([[1, 2, 3, 4, 5,  6,  7,  8,  9,  10, 11, 12, 13, 14, 4, 1], \n",
    "               [28, 26, 24, 22, 20, 18, 16, 14, 12, 10, 8, 6, 4, 2, 5, 1]\n",
    "              ], np.float)\n",
    "s3_desc = \"| [correlacao desc\"\n",
    "\n",
    "s4 = np.array([[1, 2, 3, 4, 5,  6,  7,  8,  9,  10, 11, 12, 13, 14, 4, 1], \n",
    "              [2800, 2600, 2400, 2200, 2000, 1800, 1600, 1400, 1200, 1000, 800, 600, 400, 200, 5, 1]\n",
    "              ], np.float)\n",
    "s4_desc = \"| [correlacao  desc + \""
   ]
  },
  {
   "cell_type": "code",
   "execution_count": 52,
   "metadata": {},
   "outputs": [
    {
     "data": {
      "image/png": "[encoded data removed]",
      "text/plain": [
       "<Figure size 432x288 with 1 Axes>"
      ]
     },
     "metadata": {},
     "output_type": "display_data"
    }
   ],
   "source": [
    "plt.plot(s1[0], s1[1], 'ro')   \n",
    "x1, y1 = [4, 1], [5, 1]\n",
    "plt.plot(x1, y1, marker = 'o')\n",
    "plt.show()"
   ]
  },
  {
   "cell_type": "code",
   "execution_count": 53,
   "metadata": {},
   "outputs": [
    {
     "data": {
      "image/png": "[encoded data removed]",
      "text/plain": [
       "<Figure size 432x288 with 1 Axes>"
      ]
     },
     "metadata": {},
     "output_type": "display_data"
    }
   ],
   "source": [
    "plt.plot(s2[0], s2[1], 'ro')   \n",
    "x1, y1 = [4, 1], [5, 1]\n",
    "plt.plot(x1, y1, marker = 'o')\n",
    "plt.show()"
   ]
  },
  {
   "cell_type": "code",
   "execution_count": 54,
   "metadata": {},
   "outputs": [
    {
     "data": {
      "image/png": "[encoded data removed]",
      "text/plain": [
       "<Figure size 432x288 with 1 Axes>"
      ]
     },
     "metadata": {},
     "output_type": "display_data"
    }
   ],
   "source": [
    "plt.plot(s3[0], s3[1], 'ro')\n",
    "x1, y1 = [4, 1], [5, 1]\n",
    "plt.plot(x1, y1, marker = 'o')\n",
    "plt.show()"
   ]
  },
  {
   "cell_type": "code",
   "execution_count": 55,
   "metadata": {},
   "outputs": [
    {
     "data": {
      "image/png": "[encoded data removed]",
      "text/plain": [
       "<Figure size 432x288 with 1 Axes>"
      ]
     },
     "metadata": {},
     "output_type": "display_data"
    }
   ],
   "source": [
    "plt.plot(s4[0], s4[1], 'ro')  \n",
    "x1, y1 = [4, 1], [5, 1]\n",
    "plt.plot(x1, y1, marker = 'o')\n",
    "plt.show()"
   ]
  },
  {
   "cell_type": "code",
   "execution_count": 56,
   "metadata": {},
   "outputs": [
    {
     "data": {
      "text/plain": [
       "0.007040627348877668"
      ]
     },
     "execution_count": 56,
     "metadata": {},
     "output_type": "execute_result"
    }
   ],
   "source": [
    "df1 = pd.DataFrame(np.transpose(s1))\n",
    "df1.corr()\n",
    "np.linalg.det(df1.corr())"
   ]
  },
  {
   "cell_type": "code",
   "execution_count": 57,
   "metadata": {},
   "outputs": [
    {
     "data": {
      "text/plain": [
       "0.9995568918567025"
      ]
     },
     "execution_count": 57,
     "metadata": {},
     "output_type": "execute_result"
    }
   ],
   "source": [
    "df2 = pd.DataFrame(np.transpose(s2))\n",
    "df2.corr()\n",
    "np.linalg.det(df2.corr())"
   ]
  },
  {
   "cell_type": "code",
   "execution_count": 58,
   "metadata": {},
   "outputs": [
    {
     "data": {
      "text/plain": [
       "0.6332116760040605"
      ]
     },
     "execution_count": 58,
     "metadata": {},
     "output_type": "execute_result"
    }
   ],
   "source": [
    "df3 = pd.DataFrame(np.transpose(s3))\n",
    "df3.corr()\n",
    "np.linalg.det(df3.corr())"
   ]
  },
  {
   "cell_type": "code",
   "execution_count": 59,
   "metadata": {},
   "outputs": [
    {
     "data": {
      "text/plain": [
       "0.7077348685104379"
      ]
     },
     "execution_count": 59,
     "metadata": {},
     "output_type": "execute_result"
    }
   ],
   "source": [
    "df4 = pd.DataFrame(np.transpose(s4))\n",
    "df4.corr()\n",
    "np.linalg.det(df4.corr())"
   ]
  },
  {
   "cell_type": "code",
   "execution_count": 60,
   "metadata": {},
   "outputs": [
    {
     "name": "stdout",
     "output_type": "stream",
     "text": [
      "0.9964734681119826\n",
      "0.021050134044643603\n",
      "-0.6056305177217702\n"
     ]
    }
   ],
   "source": [
    "print((measure_correlation(s1[0],s1[1])))\n",
    "print((measure_correlation(s2[0],s2[1])))\n",
    "print((measure_correlation(s3[0],s3[1])))"
   ]
  },
  {
   "cell_type": "code",
   "execution_count": 61,
   "metadata": {},
   "outputs": [
    {
     "name": "stdout",
     "output_type": "stream",
     "text": [
      "1.0\n",
      "1.0\n",
      "1.0\n"
     ]
    }
   ],
   "source": [
    "print(dist_euclidian(s1[0][14],s1[1][14]))\n",
    "print(dist_euclidian(s2[0][16],s2[1][16]))\n",
    "print(dist_euclidian(s3[0][14],s3[1][14]))"
   ]
  },
  {
   "cell_type": "code",
   "execution_count": 62,
   "metadata": {},
   "outputs": [
    {
     "data": {
      "text/plain": [
       "array([ 1.,  2.,  3.,  4.,  5.,  6.,  7.,  8.,  9., 10., 11., 12., 13.,\n",
       "       14.,  4.,  1.])"
      ]
     },
     "execution_count": 62,
     "metadata": {},
     "output_type": "execute_result"
    }
   ],
   "source": [
    "s1[0]"
   ]
  },
  {
   "cell_type": "code",
   "execution_count": 63,
   "metadata": {},
   "outputs": [
    {
     "data": {
      "text/plain": [
       "array([ 2.,  4.,  6.,  8., 10., 12., 14., 16., 18., 20., 22., 24., 26.,\n",
       "       28.,  5.,  1.])"
      ]
     },
     "execution_count": 63,
     "metadata": {},
     "output_type": "execute_result"
    }
   ],
   "source": [
    "s1[1]"
   ]
  },
  {
   "cell_type": "code",
   "execution_count": 64,
   "metadata": {},
   "outputs": [],
   "source": [
    "S1 = df1.corr()\n",
    "S2 = df2.corr()\n",
    "S3 = df3.corr()\n",
    "S4 = df4.corr()"
   ]
  },
  {
   "cell_type": "code",
   "execution_count": 65,
   "metadata": {},
   "outputs": [
    {
     "data": {
      "text/plain": [
       "(4.0, 5.0)"
      ]
     },
     "execution_count": 65,
     "metadata": {},
     "output_type": "execute_result"
    }
   ],
   "source": [
    "p1 = (s1[0][14],s1[1][14])\n",
    "p1"
   ]
  },
  {
   "cell_type": "code",
   "execution_count": 66,
   "metadata": {},
   "outputs": [
    {
     "data": {
      "text/plain": [
       "(1.0, 1.0)"
      ]
     },
     "execution_count": 66,
     "metadata": {},
     "output_type": "execute_result"
    }
   ],
   "source": [
    "p2 = (s1[0][15],s1[1][15])\n",
    "p2"
   ]
  },
  {
   "cell_type": "code",
   "execution_count": 67,
   "metadata": {},
   "outputs": [
    {
     "name": "stdout",
     "output_type": "stream",
     "text": [
      "5.0\n"
     ]
    }
   ],
   "source": [
    "de = dist_euclidian(p1,p2)\n",
    "de_desc = \"| [distancia]\"\n",
    "print(dist_euclidian(p1,p2))"
   ]
  },
  {
   "cell_type": "code",
   "execution_count": 68,
   "metadata": {},
   "outputs": [
    {
     "name": "stdout",
     "output_type": "stream",
     "text": [
      "distance euclidiana\n",
      "5.0 | [distancia]\n",
      "distance mahalanobis\n",
      "6.993951903944406 | [correlacao cresc]\n",
      "5.050267638162501 | [correlacao nula]\n",
      "3.2349447560472364 | [correlacao desc\n",
      "3.467741010978792 | [correlacao  desc + \n"
     ]
    }
   ],
   "source": [
    "dm1 = distance.mahalanobis(p1, p2, S1)\n",
    "dm2 = distance.mahalanobis(p1, p2, S2)\n",
    "dm3 = distance.mahalanobis(p1, p2, S3)\n",
    "dm4 = distance.mahalanobis(p1, p2, S4)\n",
    "\n",
    "print(\"distance euclidiana\")\n",
    "print(de, de_desc)\n",
    "print(\"distance mahalanobis\")\n",
    "print(distance.mahalanobis(p1, p2, S1), s1_desc)\n",
    "print(distance.mahalanobis(p1, p2, S2), s2_desc)\n",
    "print(distance.mahalanobis(p1, p2, S3), s3_desc)\n",
    "print(distance.mahalanobis(p1, p2, S4), s4_desc)"
   ]
  },
  {
   "cell_type": "code",
   "execution_count": 69,
   "metadata": {},
   "outputs": [
    {
     "name": "stdout",
     "output_type": "stream",
     "text": [
      "39.87903807888811\n",
      "1.0053527632500225\n",
      "35.301104879055266\n",
      "30.645179780424158\n"
     ]
    }
   ],
   "source": [
    "print(abs(1 -  dm1/de) * 100)\n",
    "print(abs(1  - dm2/de) * 100)\n",
    "print(abs(1  - dm3/de) * 100)\n",
    "print(abs(1  - dm4/de) * 100)"
   ]
  },
  {
   "cell_type": "code",
   "execution_count": null,
   "metadata": {},
   "outputs": [],
   "source": []
  }
 ],
 "metadata": {
  "kernelspec": {
   "display_name": "conda_python3",
   "language": "python",
   "name": "conda_python3"
  },
  "language_info": {
   "codemirror_mode": {
    "name": "ipython",
    "version": 3
   },
   "file_extension": ".py",
   "mimetype": "text/x-python",
   "name": "python",
   "nbconvert_exporter": "python",
   "pygments_lexer": "ipython3",
   "version": "3.6.5"
  }
 },
 "nbformat": 4,
 "nbformat_minor": 2
}
