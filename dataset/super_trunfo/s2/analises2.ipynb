{
 "cells": [
  {
   "cell_type": "code",
   "execution_count": 7,
   "metadata": {},
   "outputs": [],
   "source": [
    "\n",
    "import numpy as np\n",
    "import pandas as pd\n",
    "import matplotlib.pyplot as plt\n",
    "\n",
    "import os\n",
    "import sys\n",
    "import math\n",
    "\n",
    "from datetime import datetime\n",
    "from datetime import timedelta\n",
    "import datetime\n",
    "\n",
    "from scipy import spatial\n",
    "from numpy import array\n",
    "from numpy import corrcoef\n",
    "from scipy.spatial import distance\n",
    "\n",
    "from sklearn.preprocessing import MinMaxScaler\n",
    "\n",
    "def dist_euclidian(v1,v2):\n",
    "    return distance.euclidean(v1, v2)\n",
    "\n",
    "def measure_cossine(v1,v2):\n",
    "    return (1 - spatial.distance.cosine(v1, v2))\n",
    "\n",
    "def measure_correlation(v1,v2):\n",
    "    return corrcoef(v1,v2)[0,1]\n",
    "\n",
    "def dist_correlation(dc):\n",
    "    return math.sqrt(2 *(1 - dc))\n",
    "\n",
    "def measure_angle(arcc):\n",
    "    return math.degrees(np.arccos(arcc))\n",
    "\n",
    "def measure(v1,v2):\n",
    "    #return measure_correlation(v1,v2)\n",
    "    return measure_correlation(v1,v2)"
   ]
  },
  {
   "cell_type": "code",
   "execution_count": 11,
   "metadata": {},
   "outputs": [
    {
     "name": "stdout",
     "output_type": "stream",
     "text": [
      "Index(['nome', 'cil', 'pot', 'v', 'p', 'comp'], dtype='object')\n",
      "      cil    pot      v       p  comp\n",
      "0  3217.0  369.0  280.0  1590.0  4.51\n",
      "1  3996.0  363.0  250.0  1715.0  4.76\n",
      "2  3600.0  462.0  315.0  1451.0  4.45\n",
      "3  5935.0  460.0  306.0  1863.0  4.67\n",
      "4  5379.0  326.0  225.0  2480.0  5.65\n"
     ]
    }
   ],
   "source": [
    "df = pd.DataFrame()\n",
    "path = (os.path.abspath(\".\")) + \"/../../../ds/supertrunfo/datasete/\"\n",
    "filename = \"s2.csv\"\n",
    "file = path + str(filename)\n",
    "df = pd.read_csv(file, delimiter=\";\", dtype={\n",
    "    'nome': str, 'cil': float, 'pot':float, 'v':float, 'p':float,\n",
    "    'comp':float\n",
    "   })\n",
    "\n",
    "print(df.columns)\n",
    "columns = ['nome']\n",
    "df.drop(columns, inplace=True, axis=1)\n",
    "print(df.head())\n"
   ]
  },
  {
   "cell_type": "code",
   "execution_count": 13,
   "metadata": {},
   "outputs": [
    {
     "name": "stdout",
     "output_type": "stream",
     "text": [
      "[[1.    0.836 0.912 ... 0.674 0.448 0.699]\n",
      " [0.836 1.    0.563 ... 0.962 0.828 0.952]\n",
      " [0.912 0.563 1.    ... 0.351 0.087 0.368]\n",
      " ...\n",
      " [0.674 0.962 0.351 ... 1.    0.945 0.985]\n",
      " [0.448 0.828 0.087 ... 0.945 1.    0.95 ]\n",
      " [0.699 0.952 0.368 ... 0.985 0.95  1.   ]]\n"
     ]
    }
   ],
   "source": [
    "scaler = MinMaxScaler()\n",
    "scaled_values = scaler.fit_transform(df)\n",
    "df.loc[:,:] = scaled_values\n",
    "\n",
    "#calculate matriz corr\n",
    "n = len(df)\n",
    "m=np.zeros((n,n))\n",
    "for x in range(n):\n",
    "    line = \"\"\n",
    "    for y in range(n):\n",
    "        m[x,y]=  round(measure(df.iloc[x],df.iloc[y]),3)\n",
    "print(m)"
   ]
  },
  {
   "cell_type": "code",
   "execution_count": 14,
   "metadata": {},
   "outputs": [
    {
     "name": "stdout",
     "output_type": "stream",
     "text": [
      "          0         1         2         3         4         5         6   \\\n",
      "0   1.000000  0.836481  0.912440  0.468881  0.266986  0.071633  0.683430   \n",
      "1   0.836481  1.000000  0.562824  0.535386  0.738674  0.558231  0.922306   \n",
      "2   0.912440  0.562824  1.000000  0.487012 -0.118729 -0.192026  0.341483   \n",
      "3   0.468881  0.535386  0.487012  1.000000  0.279640  0.615835  0.258217   \n",
      "4   0.266986  0.738674 -0.118729  0.279640  1.000000  0.836110  0.853824   \n",
      "5   0.071633  0.558231 -0.192026  0.615835  0.836110  1.000000  0.527126   \n",
      "6   0.683430  0.922306  0.341483  0.258217  0.853824  0.527126  1.000000   \n",
      "7   0.206962  0.637758 -0.031841  0.728002  0.809659  0.985820  0.563750   \n",
      "8   0.628089  0.927962  0.264893  0.310018  0.854318  0.622665  0.923050   \n",
      "9   0.438592  0.791411  0.189085  0.748074  0.763717  0.893450  0.638590   \n",
      "10  0.431047  0.846688  0.091326  0.541034  0.916536  0.885917  0.804169   \n",
      "11  0.525445  0.890781  0.194781  0.544390  0.869714  0.820246  0.816934   \n",
      "12 -0.123325 -0.415282  0.235661  0.445976 -0.697233 -0.219087 -0.714524   \n",
      "13  0.595538  0.463496  0.713351  0.938387  0.011954  0.312100  0.147624   \n",
      "14  0.652854  0.148046  0.895441  0.276816 -0.547409 -0.539380 -0.092543   \n",
      "15 -0.318801 -0.629797  0.069629  0.212315 -0.733594 -0.358454 -0.760920   \n",
      "16  0.034211  0.482186 -0.169117  0.704302  0.721891  0.982682  0.394562   \n",
      "17  0.944043  0.617022  0.994518  0.442599 -0.054191 -0.178931  0.417823   \n",
      "18  0.916649  0.896047  0.741445  0.440064  0.530426  0.265862  0.864543   \n",
      "19  0.292237  0.653209  0.081398  0.720777  0.798629  0.900191  0.636720   \n",
      "20  0.368265  0.735343 -0.013450  0.067830  0.934422  0.597680  0.928024   \n",
      "21 -0.047119  0.494686 -0.383931  0.296450  0.932876  0.920663  0.616530   \n",
      "22  0.134244  0.608044 -0.271690  0.000848  0.960276  0.694277  0.810428   \n",
      "23  0.174706  0.629782 -0.217424  0.052557  0.965813  0.699494  0.836743   \n",
      "24 -0.000988 -0.158400  0.280073  0.731499 -0.365475  0.130804 -0.434071   \n",
      "25  0.523980  0.420201  0.645641  0.954009  0.008277  0.353023  0.095260   \n",
      "26  0.272821  0.290881  0.382451  0.962625  0.086435  0.514893  0.011628   \n",
      "27  0.119414 -0.324819  0.460336  0.183589 -0.826289 -0.552402 -0.627930   \n",
      "28  0.682403  0.958756  0.367954  0.517668  0.879092  0.704827  0.955650   \n",
      "29  0.673563  0.961688  0.350674  0.509473  0.887120  0.715423  0.954100   \n",
      "30  0.447748  0.827825  0.086556  0.324934  0.967794  0.745865  0.938612   \n",
      "31  0.698752  0.951606  0.367757  0.381060  0.869252  0.607192  0.991118   \n",
      "\n",
      "          7         8         9     ...           22        23        24  \\\n",
      "0   0.206962  0.628089  0.438592    ...     0.134244  0.174706 -0.000988   \n",
      "1   0.637758  0.927962  0.791411    ...     0.608044  0.629782 -0.158400   \n",
      "2  -0.031841  0.264893  0.189085    ...    -0.271690 -0.217424  0.280073   \n",
      "3   0.728002  0.310018  0.748074    ...     0.000848  0.052557  0.731499   \n",
      "4   0.809659  0.854318  0.763717    ...     0.960276  0.965813 -0.365475   \n",
      "5   0.985820  0.622665  0.893450    ...     0.694277  0.699494  0.130804   \n",
      "6   0.563750  0.923050  0.638590    ...     0.810428  0.836743 -0.434071   \n",
      "7   1.000000  0.643585  0.932013    ...     0.633507  0.651258  0.222699   \n",
      "8   0.643585  1.000000  0.791894    ...     0.793739  0.776553 -0.418994   \n",
      "9   0.932013  0.791894  1.000000    ...     0.575559  0.570555  0.152124   \n",
      "10  0.897440  0.911555  0.949867    ...     0.794786  0.786484 -0.139078   \n",
      "11  0.844601  0.942704  0.948352    ...     0.743472  0.729497 -0.152458   \n",
      "12 -0.146240 -0.620577 -0.130735    ...    -0.854291 -0.839601  0.891852   \n",
      "13  0.457951  0.160927  0.536045    ...    -0.261589 -0.200145  0.783380   \n",
      "14 -0.393732 -0.148508 -0.178550    ...    -0.656348 -0.616504  0.385390   \n",
      "15 -0.307563 -0.855189 -0.448507    ...    -0.819597 -0.761820  0.808783   \n",
      "16  0.978846  0.516770  0.887675    ...     0.549931  0.555358  0.295746   \n",
      "17 -0.024265  0.340606  0.208561    ...    -0.192136 -0.142152  0.183094   \n",
      "18  0.376890  0.714696  0.493015    ...     0.420145  0.485105 -0.111817   \n",
      "19  0.936696  0.578404  0.810720    ...     0.625857  0.685456  0.244386   \n",
      "20  0.578328  0.828550  0.543876    ...     0.952864  0.973482 -0.557636   \n",
      "21  0.864194  0.640074  0.721353    ...     0.888842  0.892088 -0.197936   \n",
      "22  0.633507  0.793739  0.575559    ...     1.000000  0.991490 -0.589246   \n",
      "23  0.651258  0.776553  0.570555    ...     0.991490  1.000000 -0.533852   \n",
      "24  0.222699 -0.418994  0.152124    ...    -0.589246 -0.533852  1.000000   \n",
      "25  0.490261  0.134292  0.556839    ...    -0.269519 -0.214230  0.819516   \n",
      "26  0.618999  0.048345  0.581844    ...    -0.187346 -0.129529  0.881740   \n",
      "27 -0.467939 -0.504558 -0.288126    ...    -0.917925 -0.932637  0.573894   \n",
      "28  0.758358  0.918539  0.815288    ...     0.762282  0.795485 -0.181094   \n",
      "29  0.764872  0.936034  0.831692    ...     0.772698  0.799328 -0.198927   \n",
      "30  0.752596  0.866744  0.721466    ...     0.913108  0.943438 -0.337727   \n",
      "31  0.653512  0.930635  0.723783    ...     0.791102  0.821242 -0.321350   \n",
      "\n",
      "          25        26        27        28        29        30        31  \n",
      "0   0.523980  0.272821  0.119414  0.682403  0.673563  0.447748  0.698752  \n",
      "1   0.420201  0.290881 -0.324819  0.958756  0.961688  0.827825  0.951606  \n",
      "2   0.645641  0.382451  0.460336  0.367954  0.350674  0.086556  0.367757  \n",
      "3   0.954009  0.962625  0.183589  0.517668  0.509473  0.324934  0.381060  \n",
      "4   0.008277  0.086435 -0.826289  0.879092  0.887120  0.967794  0.869252  \n",
      "5   0.353023  0.514893 -0.552402  0.704827  0.715423  0.745865  0.607192  \n",
      "6   0.095260  0.011628 -0.627930  0.955650  0.954100  0.938612  0.991118  \n",
      "7   0.490261  0.618999 -0.467939  0.758358  0.764872  0.752596  0.653512  \n",
      "8   0.134292  0.048345 -0.504558  0.918539  0.936034  0.866744  0.930635  \n",
      "9   0.556839  0.581844 -0.288126  0.815288  0.831692  0.721466  0.723783  \n",
      "10  0.309531  0.334815 -0.535547  0.904916  0.921426  0.878060  0.855513  \n",
      "11  0.340701  0.321526 -0.445429  0.908484  0.927242  0.844240  0.865602  \n",
      "12  0.623396  0.626328  0.849348 -0.520921 -0.527088 -0.698233 -0.630401  \n",
      "13  0.994878  0.918856  0.435987  0.372752  0.358028  0.116666  0.257255  \n",
      "14  0.532490  0.271391  0.763430 -0.083963 -0.100757 -0.363055 -0.078356  \n",
      "15  0.382095  0.454200  0.608202 -0.633623 -0.661277 -0.690799 -0.708886  \n",
      "16  0.467314  0.636179 -0.404891  0.612596  0.623269  0.623924  0.491949  \n",
      "17  0.587764  0.314704  0.393463  0.423251  0.407777  0.151444  0.435212  \n",
      "18  0.405584  0.235125 -0.249829  0.849130  0.831242  0.713536  0.872410  \n",
      "19  0.501820  0.624125 -0.546815  0.803737  0.792378  0.813919  0.715899  \n",
      "20 -0.160340 -0.141360 -0.872101  0.861341  0.860225  0.964964  0.904322  \n",
      "21 -0.002366  0.181306 -0.830219  0.696210  0.704550  0.841230  0.651243  \n",
      "22 -0.269519 -0.187346 -0.917925  0.762282  0.772698  0.913108  0.791102  \n",
      "23 -0.214230 -0.129529 -0.932637  0.795485  0.799328  0.943438  0.821242  \n",
      "24  0.819516  0.881740  0.573894 -0.181094 -0.198927 -0.337727 -0.321350  \n",
      "25  1.000000  0.947284  0.443697  0.338316  0.326276  0.090217  0.211693  \n",
      "26  0.947284  1.000000  0.292578  0.290790  0.277995  0.118618  0.140238  \n",
      "27  0.443697  0.292578  1.000000 -0.548686 -0.545887 -0.787533 -0.591075  \n",
      "28  0.338316  0.290790 -0.548686  1.000000  0.998624  0.946977  0.986183  \n",
      "29  0.326276  0.277995 -0.545887  0.998624  1.000000  0.944964  0.984519  \n",
      "30  0.090217  0.118618 -0.787533  0.946977  0.944964  1.000000  0.949532  \n",
      "31  0.211693  0.140238 -0.591075  0.986183  0.984519  0.949532  1.000000  \n",
      "\n",
      "[32 rows x 32 columns]\n"
     ]
    }
   ],
   "source": [
    "dfm = pd.DataFrame(m)\n",
    "path = (os.path.abspath(\".\")) + \"/../../../ds/supertrunfo/datasete/\"\n",
    "filename = \"s2_matrix_corr_pearson1.csv\"\n",
    "dfm.to_csv(path+filename)\n",
    "\n",
    "\n",
    "matriz_cor = df.transpose().corr()\n",
    "print(matriz_cor)"
   ]
  },
  {
   "cell_type": "code",
   "execution_count": 15,
   "metadata": {},
   "outputs": [
    {
     "data": {
      "image/png": "[encoded data removed]",
      "text/plain": [
       "<Figure size 432x288 with 2 Axes>"
      ]
     },
     "metadata": {
      "needs_background": "light"
     },
     "output_type": "display_data"
    }
   ],
   "source": [
    "plt.imshow(df.corr(), cmap=plt.cm.Reds, interpolation='nearest')\n",
    "plt.colorbar()\n",
    "tick_marks = [i for i in range(len(df.columns))]\n",
    "plt.xticks(tick_marks, df.columns, rotation='vertical')\n",
    "plt.yticks(tick_marks, df.columns)\n",
    "plt.show()"
   ]
  },
  {
   "cell_type": "code",
   "execution_count": 16,
   "metadata": {},
   "outputs": [
    {
     "data": {
      "image/png": "[encoded data removed]",
      "text/plain": [
       "<Figure size 432x288 with 1 Axes>"
      ]
     },
     "metadata": {
      "needs_background": "light"
     },
     "output_type": "display_data"
    }
   ],
   "source": [
    "\n",
    "\n",
    "plt.imshow(df.T.corr(), cmap=plt.cm.RdYlGn)\n",
    "plt.show()\n",
    "\n"
   ]
  },
  {
   "cell_type": "code",
   "execution_count": null,
   "metadata": {},
   "outputs": [],
   "source": []
  },
  {
   "cell_type": "code",
   "execution_count": null,
   "metadata": {},
   "outputs": [],
   "source": []
  },
  {
   "cell_type": "code",
   "execution_count": null,
   "metadata": {},
   "outputs": [],
   "source": []
  },
  {
   "cell_type": "code",
   "execution_count": null,
   "metadata": {},
   "outputs": [],
   "source": []
  }
 ],
 "metadata": {
  "kernelspec": {
   "display_name": "Python 3",
   "language": "python",
   "name": "python3"
  },
  "language_info": {
   "codemirror_mode": {
    "name": "ipython",
    "version": 3
   },
   "file_extension": ".py",
   "mimetype": "text/x-python",
   "name": "python",
   "nbconvert_exporter": "python",
   "pygments_lexer": "ipython3",
   "version": "3.6.8"
  }
 },
 "nbformat": 4,
 "nbformat_minor": 2
}
